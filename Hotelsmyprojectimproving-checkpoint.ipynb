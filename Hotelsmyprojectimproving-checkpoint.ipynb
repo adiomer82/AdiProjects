{
 "cells": [
  {
   "cell_type": "markdown",
   "id": "b1a5eb3f-f97d-4eb0-a334-9e7f3661f46e",
   "metadata": {},
   "source": [
    "# Project Goals: Data Analysis in the Hospitality Industry\n",
    "\n",
    "## **Objective:**  \n",
    "This project aims to analyze hotel reservation data to uncover key insights into \n",
    "**room occupancy, pricing trends, seasonal demand, and factors influencing guest reservations**. \n",
    "By leveraging data-driven insights, the goal is to \n",
    "**optimize pricing strategies, predict demand fluctuations, and enhance the guest experience**.  \n",
    "\n",
    "## **Project Scope:**  \n",
    "The dataset originates from my SQL database and consists of six interconnected CSV tables:  \n",
    "\n",
    "- **Hotel Guests** – Guest details and demographics  \n",
    "- **Hotel Reservations** – Booking information  \n",
    "- **Hotels** – Hotel-specific attributes  \n",
    "- **Rooms** – Room availability and assignments  \n",
    "- **Room Type** – Room categories and features  \n",
    "- **Room View** – Information about room views  \n",
    "\n",
    "## **Approach:**  \n",
    "\n",
    "### 1) **Data Import & Preprocessing**  \n",
    "- Load all tables and merge them into a **comprehensive dataset**.  \n",
    "- Identify and remove **duplicate columns** for clarity.  \n",
    "- Handle **missing values, errors, and outliers**.  \n",
    "- Convert **date fields** to a structured format for trend analysis.  \n",
    "\n",
    "### 2) **Exploratory Data Analysis (EDA)**  \n",
    "- Investigate **occupancy rates, room types, and guest behavior**.  \n",
    "- Analyze **seasonality trends and booking patterns**.  \n",
    "- Examine the impact of **price fluctuations on demand**.  \n",
    "\n",
    "### 3) **Advanced Analysis & Visualization**  \n",
    "- Generate **trend charts, heatmaps, and correlation matrices**.  \n",
    "- Identify **peak booking seasons** and **weekend vs. weekday patterns**.  \n",
    "- Analyze **price optimization opportunities** for revenue growth.  \n",
    "\n",
    "### 4) **Conclusion & Business Insights**  \n",
    "- Summarize key findings to drive **data-informed decision-making**.  \n",
    "- Provide **actionable recommendations** for improving hotel performance. "
   ]
  },
  {
   "cell_type": "code",
   "execution_count": 98,
   "id": "60744151-2d46-432b-b1e3-e575686a9ace",
   "metadata": {},
   "outputs": [],
   "source": [
    "# Importing data from the database\n",
    "import pandas as pd\n",
    "import matplotlib as mpl\n",
    "import matplotlib.pyplot as plt\n",
    "import numpy as np\n",
    "import seaborn as sb"
   ]
  },
  {
   "cell_type": "code",
   "execution_count": 99,
   "id": "e5be2ae8-cdeb-474c-bd05-b21224f9aa8c",
   "metadata": {},
   "outputs": [],
   "source": [
    "# Reading data from a CSV files \n",
    "hotelg=pd.read_csv('HotelGuests.csv')\n",
    "hotelr=pd.read_csv('HotelReservations.csv')\n",
    "hot=pd.read_csv('Hotels.csv')\n",
    "rm=pd.read_csv('Rooms.csv')\n",
    "rmt=pd.read_csv('RoomType.csv')\n",
    "rmv=pd.read_csv('RoomView.csv')"
   ]
  },
  {
   "cell_type": "code",
   "execution_count": 100,
   "id": "ca5df6a1-ca61-4af9-adde-553f4824a418",
   "metadata": {},
   "outputs": [],
   "source": [
    "# Initial data review"
   ]
  },
  {
   "cell_type": "code",
   "execution_count": 101,
   "id": "152a76d4-c3f0-4be0-a63f-85485901f111",
   "metadata": {},
   "outputs": [
    {
     "name": "stdout",
     "output_type": "stream",
     "text": [
      "<class 'pandas.core.frame.DataFrame'>\n",
      "RangeIndex: 1280 entries, 0 to 1279\n",
      "Data columns (total 9 columns):\n",
      " #   Column           Non-Null Count  Dtype \n",
      "---  ------           --------------  ----- \n",
      " 0   PassportCountry  1280 non-null   object\n",
      " 1   PassportNumber   1280 non-null   int64 \n",
      " 2   FirstName        1280 non-null   object\n",
      " 3   LastName         1280 non-null   object\n",
      " 4   Gender           1280 non-null   object\n",
      " 5   Country          1280 non-null   object\n",
      " 6   City             1280 non-null   object\n",
      " 7   Street           1134 non-null   object\n",
      " 8   MobilePhone      1280 non-null   int64 \n",
      "dtypes: int64(2), object(7)\n",
      "memory usage: 90.1+ KB\n"
     ]
    }
   ],
   "source": [
    "hotelg.info()"
   ]
  },
  {
   "cell_type": "code",
   "execution_count": 102,
   "id": "5a854961-ac0a-4adf-ab3f-2bf830a28c2c",
   "metadata": {},
   "outputs": [
    {
     "name": "stdout",
     "output_type": "stream",
     "text": [
      "<class 'pandas.core.frame.DataFrame'>\n",
      "RangeIndex: 365 entries, 0 to 364\n",
      "Data columns (total 10 columns):\n",
      " #   Column             Non-Null Count  Dtype \n",
      "---  ------             --------------  ----- \n",
      " 0   ReservationDate    365 non-null    object\n",
      " 1   ReservationNumber  365 non-null    int64 \n",
      " 2   PassportCountry    365 non-null    object\n",
      " 3   PassportNumber     365 non-null    int64 \n",
      " 4   HotelNumber        365 non-null    int64 \n",
      " 5   HotelRoom          365 non-null    int64 \n",
      " 6   ArrivalDate        365 non-null    object\n",
      " 7   RoomNights         365 non-null    int64 \n",
      " 8   NumberofGuests     365 non-null    int64 \n",
      " 9   TotalPrice         365 non-null    int64 \n",
      "dtypes: int64(7), object(3)\n",
      "memory usage: 28.6+ KB\n"
     ]
    }
   ],
   "source": [
    "hotelr.info()"
   ]
  },
  {
   "cell_type": "code",
   "execution_count": 103,
   "id": "1efd2215-c24e-4bd1-b434-628ac79a261b",
   "metadata": {
    "scrolled": true
   },
   "outputs": [
    {
     "name": "stdout",
     "output_type": "stream",
     "text": [
      "<class 'pandas.core.frame.DataFrame'>\n",
      "RangeIndex: 1022 entries, 0 to 1021\n",
      "Data columns (total 8 columns):\n",
      " #   Column         Non-Null Count  Dtype  \n",
      "---  ------         --------------  -----  \n",
      " 0   HotelNumber    1022 non-null   int64  \n",
      " 1   HotelName      1022 non-null   object \n",
      " 2   Country        1022 non-null   object \n",
      " 3   City           1022 non-null   object \n",
      " 4   PhoneNumber    1022 non-null   int64  \n",
      " 5   Grade          1021 non-null   float64\n",
      " 6   Restaurants    1020 non-null   float64\n",
      " 7   SwimmingPools  1021 non-null   float64\n",
      "dtypes: float64(3), int64(2), object(3)\n",
      "memory usage: 64.0+ KB\n"
     ]
    }
   ],
   "source": [
    "hot.info()"
   ]
  },
  {
   "cell_type": "code",
   "execution_count": 104,
   "id": "24ea61d4-3e00-442d-8be8-6165027249d1",
   "metadata": {},
   "outputs": [
    {
     "name": "stdout",
     "output_type": "stream",
     "text": [
      "<class 'pandas.core.frame.DataFrame'>\n",
      "RangeIndex: 1022 entries, 0 to 1021\n",
      "Data columns (total 6 columns):\n",
      " #   Column         Non-Null Count  Dtype \n",
      "---  ------         --------------  ----- \n",
      " 0   HotelNumber    1022 non-null   int64 \n",
      " 1   RoomNumber     1022 non-null   int64 \n",
      " 2   HotelRoomType  1022 non-null   object\n",
      " 3   ViewType       1022 non-null   object\n",
      " 4   RoomSize       1022 non-null   int64 \n",
      " 5   Balcony        1022 non-null   int64 \n",
      "dtypes: int64(4), object(2)\n",
      "memory usage: 48.0+ KB\n"
     ]
    }
   ],
   "source": [
    "rm.info()"
   ]
  },
  {
   "cell_type": "code",
   "execution_count": 105,
   "id": "dcd78eb0-cb00-41e2-a838-e03a482be1ee",
   "metadata": {},
   "outputs": [
    {
     "name": "stdout",
     "output_type": "stream",
     "text": [
      "<class 'pandas.core.frame.DataFrame'>\n",
      "RangeIndex: 20 entries, 0 to 19\n",
      "Data columns (total 2 columns):\n",
      " #   Column    Non-Null Count  Dtype \n",
      "---  ------    --------------  ----- \n",
      " 0   ViewType  20 non-null     object\n",
      " 1   ViewName  20 non-null     object\n",
      "dtypes: object(2)\n",
      "memory usage: 452.0+ bytes\n"
     ]
    }
   ],
   "source": [
    "rmv.info()"
   ]
  },
  {
   "cell_type": "code",
   "execution_count": 106,
   "id": "c4ba41d2-e404-44e2-8d7a-d83873afc98e",
   "metadata": {},
   "outputs": [
    {
     "name": "stdout",
     "output_type": "stream",
     "text": [
      "<class 'pandas.core.frame.DataFrame'>\n",
      "RangeIndex: 23 entries, 0 to 22\n",
      "Data columns (total 3 columns):\n",
      " #   Column         Non-Null Count  Dtype \n",
      "---  ------         --------------  ----- \n",
      " 0   HotelRoomType  23 non-null     object\n",
      " 1   RoomName       23 non-null     object\n",
      " 2   RoomTypePrice  23 non-null     int64 \n",
      "dtypes: int64(1), object(2)\n",
      "memory usage: 684.0+ bytes\n"
     ]
    }
   ],
   "source": [
    "rmt.info()"
   ]
  },
  {
   "cell_type": "code",
   "execution_count": 107,
   "id": "640774e5-0d01-4768-9863-96694efc76cf",
   "metadata": {},
   "outputs": [
    {
     "name": "stdout",
     "output_type": "stream",
     "text": [
      "Missing values in each dataset:\n",
      "\n",
      "Hotel Guests:\n",
      " PassportCountry      0\n",
      "PassportNumber       0\n",
      "FirstName            0\n",
      "LastName             0\n",
      "Gender               0\n",
      "Country              0\n",
      "City                 0\n",
      "Street             146\n",
      "MobilePhone          0\n",
      "dtype: int64 \n",
      "\n",
      "Hotel Reservations:\n",
      " ReservationDate      0\n",
      "ReservationNumber    0\n",
      "PassportCountry      0\n",
      "PassportNumber       0\n",
      "HotelNumber          0\n",
      "HotelRoom            0\n",
      "ArrivalDate          0\n",
      "RoomNights           0\n",
      "NumberofGuests       0\n",
      "TotalPrice           0\n",
      "dtype: int64 \n",
      "\n",
      "Hotels:\n",
      " HotelNumber      0\n",
      "HotelName        0\n",
      "Country          0\n",
      "City             0\n",
      "PhoneNumber      0\n",
      "Grade            1\n",
      "Restaurants      2\n",
      "SwimmingPools    1\n",
      "dtype: int64 \n",
      "\n",
      "Rooms:\n",
      " HotelNumber      0\n",
      "RoomNumber       0\n",
      "HotelRoomType    0\n",
      "ViewType         0\n",
      "RoomSize         0\n",
      "Balcony          0\n",
      "dtype: int64 \n",
      "\n",
      "Room Type:\n",
      " HotelRoomType    0\n",
      "RoomName         0\n",
      "RoomTypePrice    0\n",
      "dtype: int64 \n",
      "\n",
      "Room View:\n",
      " ViewType    0\n",
      "ViewName    0\n",
      "dtype: int64 \n",
      "\n"
     ]
    }
   ],
   "source": [
    "# checking for missing values\n",
    "print(\"Missing values in each dataset:\\n\")\n",
    "print(\"Hotel Guests:\\n\", hotelg.isnull().sum(),\"\\n\")\n",
    "print(\"Hotel Reservations:\\n\", hotelr.isnull().sum(),\"\\n\")\n",
    "print(\"Hotels:\\n\", hot.isnull().sum(),\"\\n\")\n",
    "print(\"Rooms:\\n\", rm.isnull().sum(),\"\\n\")\n",
    "print(\"Room Type:\\n\", rmt.isnull().sum(),\"\\n\")\n",
    "print(\"Room View:\\n\", rmv.isnull().sum(),\"\\n\")"
   ]
  },
  {
   "cell_type": "markdown",
   "id": "40470146-716d-489c-bece-74d19c72307b",
   "metadata": {},
   "source": [
    "## Data Cleaning & Processing\n",
    "After reviewing the data, I decided to do the following: \n",
    "- convert the object data type to 'Category' to improve performance and save memory, especially when dealing with columns that have many repeated values, such as names, types, or categories\n",
    "- merge the data using the unique keys in each table\n",
    "- remove duplicates, and eliminate unnecessary columns\n",
    "- change dates to datatype datetime\n",
    "- rename column names\n",
    "- Fill missing values in categorical columns with mode\n",
    "- Fill missing values in numerical columns with median\n",
    "- Create 'CheckOutDate' by adding RoomNights column\n"
   ]
  },
  {
   "cell_type": "code",
   "execution_count": 108,
   "id": "33b0f9b6-1083-4c99-9d8f-a0c7caeef224",
   "metadata": {},
   "outputs": [
    {
     "name": "stderr",
     "output_type": "stream",
     "text": [
      "C:\\Users\\User\\AppData\\Local\\Temp\\ipykernel_12152\\657926837.py:3: FutureWarning: A value is trying to be set on a copy of a DataFrame or Series through chained assignment using an inplace method.\n",
      "The behavior will change in pandas 3.0. This inplace method will never work because the intermediate object on which we are setting values always behaves as a copy.\n",
      "\n",
      "For example, when doing 'df[col].method(value, inplace=True)', try using 'df.method({col: value}, inplace=True)' or df[col] = df[col].method(value) instead, to perform the operation inplace on the original object.\n",
      "\n",
      "\n",
      "  hotelg[col].fillna(hotelg[col].mode()[0], inplace=True)\n"
     ]
    }
   ],
   "source": [
    "# Filling missing values in categorical columns with mode\n",
    "for col in hotelg.select_dtypes(include=\"object\"):\n",
    "    hotelg[col].fillna(hotelg[col].mode()[0], inplace=True)"
   ]
  },
  {
   "cell_type": "code",
   "execution_count": 109,
   "id": "2fd46c6d-abaf-4cf2-9ddc-cc6f6e9b953c",
   "metadata": {},
   "outputs": [],
   "source": [
    "# Filling missing values in numerical columns with median\n",
    "hot.fillna(hot.median(numeric_only=True), inplace=True)"
   ]
  },
  {
   "cell_type": "code",
   "execution_count": 110,
   "id": "7d3f0971-2add-422a-ba8c-44f12a0abf6e",
   "metadata": {},
   "outputs": [],
   "source": [
    "# Converting categorical columns to category type for memory efficiency and convert a float column to int\n",
    "hot[['Grade','Restaurants','SwimmingPools']] = hot[['Grade','Restaurants','SwimmingPools']].astype(int)\n",
    "hot[['Grade','Restaurants','SwimmingPools']] = hot[['Grade','Restaurants','SwimmingPools']].astype(int)\n",
    "hotelg[['Country','Gender','City','PassportCountry']] = hotelg[['Country','Gender','City','PassportCountry']].astype('category')\n",
    "hotelr['PassportCountry'] = hotelr['PassportCountry'].astype('category')\n",
    "hot[['Country','City']] = hot[['Country','City']].astype('category')\n",
    "rm[['HotelRoomType','ViewType']] = rm[['HotelRoomType','ViewType']].astype('category')"
   ]
  },
  {
   "cell_type": "code",
   "execution_count": 111,
   "id": "56762733-ff46-4584-9d76-2d0eee55f0b6",
   "metadata": {},
   "outputs": [
    {
     "name": "stderr",
     "output_type": "stream",
     "text": [
      "C:\\Users\\User\\AppData\\Local\\Temp\\ipykernel_12152\\788730646.py:2: UserWarning: Parsing dates in %d/%m/%Y format when dayfirst=False (the default) was specified. Pass `dayfirst=True` or specify a format to silence this warning.\n",
      "  hotelr[\"ArrivalDate\"] = pd.to_datetime(hotelr[\"ArrivalDate\"], errors=\"coerce\")\n"
     ]
    }
   ],
   "source": [
    "# Ensuring both ArrivalDate and ReservationDate are in datetime format\n",
    "hotelr[\"ArrivalDate\"] = pd.to_datetime(hotelr[\"ArrivalDate\"], errors=\"coerce\")\n",
    "hotelr[\"ReservationDate\"] = pd.to_datetime(hotelr[\"ReservationDate\"], format=\"%m/%d/%Y\", errors=\"coerce\")"
   ]
  },
  {
   "cell_type": "code",
   "execution_count": 112,
   "id": "f2ff3016-02a4-4e71-9203-8d7ca8256eee",
   "metadata": {},
   "outputs": [
    {
     "name": "stdout",
     "output_type": "stream",
     "text": [
      "Missing Arrival Dates: 0 out of 365\n"
     ]
    }
   ],
   "source": [
    "# missing dates check:\n",
    "print(f\"Missing Arrival Dates: {hotelr['ArrivalDate'].isnull().sum()} out of {len(hotelr)}\")"
   ]
  },
  {
   "cell_type": "code",
   "execution_count": 113,
   "id": "b22ab75b-c14b-4c78-bf10-2eda285aeb88",
   "metadata": {},
   "outputs": [],
   "source": [
    "# Calculate median days between reservation and check-in\n",
    "median_gap = (hotelr[\"ArrivalDate\"] - hotelr[\"ReservationDate\"]).dt.days.median()\n",
    "# Filling missing check-in dates based on reservation date + median gap\n",
    "hotelr = hotelr.assign(ArrivalDate=hotelr[\"ArrivalDate\"].fillna(hotelr[\"ReservationDate\"] + pd.to_timedelta(median_gap, unit=\"D\")))"
   ]
  },
  {
   "cell_type": "code",
   "execution_count": 114,
   "id": "6140771c-f732-4c5e-ba41-7a9b46b2232f",
   "metadata": {},
   "outputs": [],
   "source": [
    "# Create check-out dates column by adding room nights to Arrival Date\n",
    "hotelr[\"CheckOutDate\"] = hotelr[\"ArrivalDate\"] + pd.to_timedelta(hotelr[\"RoomNights\"], unit=\"D\")"
   ]
  },
  {
   "cell_type": "code",
   "execution_count": 115,
   "id": "6c276410-3e5c-4c31-b885-ce8b638ac16a",
   "metadata": {},
   "outputs": [
    {
     "name": "stdout",
     "output_type": "stream",
     "text": [
      "  ArrivalDate  RoomNights CheckOutDate\n",
      "0  2018-03-30           7   2018-04-06\n",
      "1  2018-04-01          10   2018-04-11\n",
      "2  2018-01-25           5   2018-01-30\n",
      "3  2018-02-28          22   2018-03-22\n",
      "4  2018-02-28           6   2018-03-06\n"
     ]
    }
   ],
   "source": [
    "# Display the first few rows to verify\n",
    "print(hotelr[[\"ArrivalDate\", \"RoomNights\", \"CheckOutDate\"]].head())"
   ]
  },
  {
   "cell_type": "code",
   "execution_count": 116,
   "id": "cac07443-dba8-4442-b8e3-bc2893d69163",
   "metadata": {},
   "outputs": [
    {
     "data": {
      "text/plain": [
       "['ReservationDate',\n",
       " 'ReservationNumber',\n",
       " 'PassportCountry',\n",
       " 'PassportNumber',\n",
       " 'HotelNumber',\n",
       " 'HotelRoom',\n",
       " 'ArrivalDate',\n",
       " 'RoomNights',\n",
       " 'NumberofGuests',\n",
       " 'TotalPrice',\n",
       " 'CheckOutDate']"
      ]
     },
     "execution_count": 116,
     "metadata": {},
     "output_type": "execute_result"
    }
   ],
   "source": [
    "# below I change the new colun possition:\n",
    "cols = hotelr.columns.tolist()\n",
    "cols"
   ]
  },
  {
   "cell_type": "code",
   "execution_count": 117,
   "id": "4a2bedb8-2bed-43b6-8de6-440b6f2c3994",
   "metadata": {},
   "outputs": [
    {
     "data": {
      "text/plain": [
       "10"
      ]
     },
     "execution_count": 117,
     "metadata": {},
     "output_type": "execute_result"
    }
   ],
   "source": [
    "# i need to find the current position of 'CheckOutDate' \n",
    "index = cols.index('CheckOutDate')\n",
    "index"
   ]
  },
  {
   "cell_type": "code",
   "execution_count": 118,
   "id": "2adfb1db-2bdd-4415-9f30-9b6f3bc64903",
   "metadata": {},
   "outputs": [],
   "source": [
    "# reorder the DataFrame based on the new column order\n",
    "cols.insert(7, cols.pop(cols.index('CheckOutDate')))"
   ]
  },
  {
   "cell_type": "code",
   "execution_count": 119,
   "id": "bec4d21c-012e-4f7e-b72d-c88f4034b4ef",
   "metadata": {},
   "outputs": [
    {
     "name": "stdout",
     "output_type": "stream",
     "text": [
      "<class 'pandas.core.frame.DataFrame'>\n",
      "RangeIndex: 365 entries, 0 to 364\n",
      "Data columns (total 11 columns):\n",
      " #   Column             Non-Null Count  Dtype         \n",
      "---  ------             --------------  -----         \n",
      " 0   ReservationDate    227 non-null    datetime64[ns]\n",
      " 1   ReservationNumber  365 non-null    int64         \n",
      " 2   PassportCountry    365 non-null    category      \n",
      " 3   PassportNumber     365 non-null    int64         \n",
      " 4   HotelNumber        365 non-null    int64         \n",
      " 5   HotelRoom          365 non-null    int64         \n",
      " 6   ArrivalDate        365 non-null    datetime64[ns]\n",
      " 7   CheckOutDate       365 non-null    datetime64[ns]\n",
      " 8   RoomNights         365 non-null    int64         \n",
      " 9   NumberofGuests     365 non-null    int64         \n",
      " 10  TotalPrice         365 non-null    int64         \n",
      "dtypes: category(1), datetime64[ns](3), int64(7)\n",
      "memory usage: 29.7 KB\n"
     ]
    }
   ],
   "source": [
    "# check a new position\n",
    "hotelr = hotelr[cols]\n",
    "hotelr.info()"
   ]
  },
  {
   "cell_type": "code",
   "execution_count": 120,
   "id": "446aa4b8-60e9-4588-a75c-ab8fe75e5163",
   "metadata": {},
   "outputs": [
    {
     "name": "stdout",
     "output_type": "stream",
     "text": [
      "Missing values in each dataset:\n",
      "\n",
      "Hotel Guests:\n",
      " PassportCountry    0\n",
      "PassportNumber     0\n",
      "FirstName          0\n",
      "LastName           0\n",
      "Gender             0\n",
      "Country            0\n",
      "City               0\n",
      "Street             0\n",
      "MobilePhone        0\n",
      "dtype: int64 \n",
      "\n",
      "Hotel Reservations:\n",
      " ReservationDate      138\n",
      "ReservationNumber      0\n",
      "PassportCountry        0\n",
      "PassportNumber         0\n",
      "HotelNumber            0\n",
      "HotelRoom              0\n",
      "ArrivalDate            0\n",
      "CheckOutDate           0\n",
      "RoomNights             0\n",
      "NumberofGuests         0\n",
      "TotalPrice             0\n",
      "dtype: int64 \n",
      "\n",
      "Hotels:\n",
      " HotelNumber      0\n",
      "HotelName        0\n",
      "Country          0\n",
      "City             0\n",
      "PhoneNumber      0\n",
      "Grade            0\n",
      "Restaurants      0\n",
      "SwimmingPools    0\n",
      "dtype: int64 \n",
      "\n",
      "Rooms:\n",
      " HotelNumber      0\n",
      "RoomNumber       0\n",
      "HotelRoomType    0\n",
      "ViewType         0\n",
      "RoomSize         0\n",
      "Balcony          0\n",
      "dtype: int64 \n",
      "\n",
      "Room Type:\n",
      " HotelRoomType    0\n",
      "RoomName         0\n",
      "RoomTypePrice    0\n",
      "dtype: int64 \n",
      "\n",
      "Room View:\n",
      " ViewType    0\n",
      "ViewName    0\n",
      "dtype: int64 \n",
      "\n"
     ]
    }
   ],
   "source": [
    "# checking if there any missing values left\n",
    "print(\"Missing values in each dataset:\\n\")\n",
    "print(\"Hotel Guests:\\n\", hotelg.isnull().sum(),\"\\n\")\n",
    "print(\"Hotel Reservations:\\n\", hotelr.isnull().sum(),\"\\n\")\n",
    "print(\"Hotels:\\n\", hot.isnull().sum(),\"\\n\")\n",
    "print(\"Rooms:\\n\", rm.isnull().sum(),\"\\n\")\n",
    "print(\"Room Type:\\n\", rmt.isnull().sum(),\"\\n\")\n",
    "print(\"Room View:\\n\", rmv.isnull().sum(),\"\\n\")"
   ]
  },
  {
   "cell_type": "code",
   "execution_count": 121,
   "id": "734d4d44-7b8e-48a4-8840-6a07acf6b7b6",
   "metadata": {},
   "outputs": [],
   "source": [
    "# Droping duplicate rows if there are any:\n",
    "\n",
    "hotelg.drop_duplicates(inplace=True)\n",
    "hotelr.drop_duplicates(inplace=True)\n",
    "hot.drop_duplicates(inplace=True)\n",
    "rm.drop_duplicates(inplace=True)\n",
    "rmt.drop_duplicates(inplace=True)\n",
    "rmv.drop_duplicates(inplace=True)"
   ]
  },
  {
   "cell_type": "code",
   "execution_count": 122,
   "id": "04211265-57f7-45bf-b22f-27d24be5026d",
   "metadata": {},
   "outputs": [
    {
     "name": "stdout",
     "output_type": "stream",
     "text": [
      "Before merge: 365\n",
      "Before merge: 1280\n",
      "Before merge: 1022\n",
      "Before merge: 1022\n",
      "Before merge: 23\n",
      "Before merge: 20\n"
     ]
    }
   ],
   "source": [
    "# data before merging the data \n",
    "print(\"Before merge:\", len(hotelr))\n",
    "print(\"Before merge:\", len(hotelg))\n",
    "print(\"Before merge:\", len(hot))\n",
    "print(\"Before merge:\", len(rm))\n",
    "print(\"Before merge:\", len(rmt))\n",
    "print(\"Before merge:\", len(rmv))"
   ]
  },
  {
   "cell_type": "markdown",
   "id": "87b25f21-aebc-401c-bb8b-98ddf7cc8062",
   "metadata": {},
   "source": [
    "## Merge tables"
   ]
  },
  {
   "cell_type": "code",
   "execution_count": 123,
   "id": "68053824-8252-4427-a86e-9f5153aec6bc",
   "metadata": {},
   "outputs": [],
   "source": [
    "# merging table 'HotelGuests with table 'HotelReservations'\n",
    "reservations = pd.merge(hotelg, \n",
    "                  hotelr,\n",
    "                  on=['PassportCountry','PassportNumber'], \n",
    "                  how='left')"
   ]
  },
  {
   "cell_type": "code",
   "execution_count": 124,
   "id": "0f002fb8-55e8-46a5-878e-7b58f0075643",
   "metadata": {},
   "outputs": [],
   "source": [
    "# removing duplications if there are any\n",
    "reservations = reservations.drop_duplicates()"
   ]
  },
  {
   "cell_type": "code",
   "execution_count": 125,
   "id": "37117bdf-f70e-4b97-9671-6a9203f79dd8",
   "metadata": {},
   "outputs": [],
   "source": [
    "# merging table 'reservations' with table 'hot'\n",
    "reservations = pd.merge(reservations, \n",
    "                  hot,\n",
    "                  on='HotelNumber',\n",
    "                  how='left')"
   ]
  },
  {
   "cell_type": "code",
   "execution_count": 126,
   "id": "0192a461-9c81-46dc-a36c-b72f5c64779d",
   "metadata": {},
   "outputs": [],
   "source": [
    "# replacing column name 'HotelRoom' to 'RoomNumber' to merge\n",
    "reservations = reservations.rename(columns={'HotelRoom': 'RoomNumber'})"
   ]
  },
  {
   "cell_type": "code",
   "execution_count": 127,
   "id": "db34595f-b9fa-407b-b8fb-54749fc9b952",
   "metadata": {},
   "outputs": [],
   "source": [
    "# merging table 'reservations' with table 'Rooms'\n",
    "reservations = pd.merge(reservations, \n",
    "                  rm,\n",
    "                  on=['HotelNumber', 'RoomNumber'],\n",
    "                  how='left')"
   ]
  },
  {
   "cell_type": "code",
   "execution_count": 128,
   "id": "384502c1-5580-47fe-8f44-18bd6af9f6c7",
   "metadata": {},
   "outputs": [],
   "source": [
    "# merging table 'reservations' with table 'RoomType'\n",
    "reservations = pd.merge(reservations, \n",
    "                  rmt,\n",
    "                  on='HotelRoomType', \n",
    "                  how='left')"
   ]
  },
  {
   "cell_type": "code",
   "execution_count": 129,
   "id": "9afe5d02-8e07-443d-95e3-cf6355fc5224",
   "metadata": {},
   "outputs": [],
   "source": [
    "# merging table 'reservations' with table 'RoomView'\n",
    "reservations = pd.merge(reservations, \n",
    "                rmv,\n",
    "                  on='ViewType', \n",
    "                  how='left')"
   ]
  },
  {
   "cell_type": "code",
   "execution_count": 130,
   "id": "26c0a359-538b-43ba-bfcc-c9a428cef1f2",
   "metadata": {},
   "outputs": [
    {
     "name": "stdout",
     "output_type": "stream",
     "text": [
      "<class 'pandas.core.frame.DataFrame'>\n",
      "RangeIndex: 1648 entries, 0 to 1647\n",
      "Data columns (total 32 columns):\n",
      " #   Column             Non-Null Count  Dtype         \n",
      "---  ------             --------------  -----         \n",
      " 0   PassportCountry    1648 non-null   object        \n",
      " 1   PassportNumber     1648 non-null   int64         \n",
      " 2   FirstName          1648 non-null   object        \n",
      " 3   LastName           1648 non-null   object        \n",
      " 4   Gender             1648 non-null   category      \n",
      " 5   Country_x          1648 non-null   category      \n",
      " 6   City_x             1648 non-null   category      \n",
      " 7   Street             1648 non-null   object        \n",
      " 8   MobilePhone        1648 non-null   int64         \n",
      " 9   ReservationDate    450 non-null    datetime64[ns]\n",
      " 10  ReservationNumber  726 non-null    float64       \n",
      " 11  HotelNumber        726 non-null    float64       \n",
      " 12  RoomNumber         726 non-null    float64       \n",
      " 13  ArrivalDate        726 non-null    datetime64[ns]\n",
      " 14  CheckOutDate       726 non-null    datetime64[ns]\n",
      " 15  RoomNights         726 non-null    float64       \n",
      " 16  NumberofGuests     726 non-null    float64       \n",
      " 17  TotalPrice         726 non-null    float64       \n",
      " 18  HotelName          726 non-null    object        \n",
      " 19  Country_y          726 non-null    category      \n",
      " 20  City_y             726 non-null    category      \n",
      " 21  PhoneNumber        726 non-null    float64       \n",
      " 22  Grade              726 non-null    float64       \n",
      " 23  Restaurants        726 non-null    float64       \n",
      " 24  SwimmingPools      726 non-null    float64       \n",
      " 25  HotelRoomType      726 non-null    object        \n",
      " 26  ViewType           726 non-null    object        \n",
      " 27  RoomSize           726 non-null    float64       \n",
      " 28  Balcony            726 non-null    float64       \n",
      " 29  RoomName           716 non-null    object        \n",
      " 30  RoomTypePrice      716 non-null    float64       \n",
      " 31  ViewName           726 non-null    object        \n",
      "dtypes: category(5), datetime64[ns](3), float64(13), int64(2), object(9)\n",
      "memory usage: 381.2+ KB\n"
     ]
    },
    {
     "data": {
      "text/html": [
       "<div>\n",
       "<style scoped>\n",
       "    .dataframe tbody tr th:only-of-type {\n",
       "        vertical-align: middle;\n",
       "    }\n",
       "\n",
       "    .dataframe tbody tr th {\n",
       "        vertical-align: top;\n",
       "    }\n",
       "\n",
       "    .dataframe thead th {\n",
       "        text-align: right;\n",
       "    }\n",
       "</style>\n",
       "<table border=\"1\" class=\"dataframe\">\n",
       "  <thead>\n",
       "    <tr style=\"text-align: right;\">\n",
       "      <th></th>\n",
       "      <th>PassportCountry</th>\n",
       "      <th>PassportNumber</th>\n",
       "      <th>FirstName</th>\n",
       "      <th>LastName</th>\n",
       "      <th>Gender</th>\n",
       "      <th>Country_x</th>\n",
       "      <th>City_x</th>\n",
       "      <th>Street</th>\n",
       "      <th>MobilePhone</th>\n",
       "      <th>ReservationDate</th>\n",
       "      <th>...</th>\n",
       "      <th>Grade</th>\n",
       "      <th>Restaurants</th>\n",
       "      <th>SwimmingPools</th>\n",
       "      <th>HotelRoomType</th>\n",
       "      <th>ViewType</th>\n",
       "      <th>RoomSize</th>\n",
       "      <th>Balcony</th>\n",
       "      <th>RoomName</th>\n",
       "      <th>RoomTypePrice</th>\n",
       "      <th>ViewName</th>\n",
       "    </tr>\n",
       "  </thead>\n",
       "  <tbody>\n",
       "    <tr>\n",
       "      <th>0</th>\n",
       "      <td>US</td>\n",
       "      <td>40915678</td>\n",
       "      <td>Greta</td>\n",
       "      <td>Turneux</td>\n",
       "      <td>Female</td>\n",
       "      <td>United States</td>\n",
       "      <td>Chicago</td>\n",
       "      <td>ACME ALY 6151</td>\n",
       "      <td>73894451144294</td>\n",
       "      <td>2024-01-02</td>\n",
       "      <td>...</td>\n",
       "      <td>4.0</td>\n",
       "      <td>1.0</td>\n",
       "      <td>4.0</td>\n",
       "      <td>Accessible Room</td>\n",
       "      <td>C</td>\n",
       "      <td>21.0</td>\n",
       "      <td>2.0</td>\n",
       "      <td>WCH</td>\n",
       "      <td>160.0</td>\n",
       "      <td>City View</td>\n",
       "    </tr>\n",
       "    <tr>\n",
       "      <th>1</th>\n",
       "      <td>IL</td>\n",
       "      <td>24297740</td>\n",
       "      <td>Dorey</td>\n",
       "      <td>Arpur</td>\n",
       "      <td>Female</td>\n",
       "      <td>Israel</td>\n",
       "      <td>Haifa</td>\n",
       "      <td>Rothschild Boulevard 7301</td>\n",
       "      <td>35269845800321</td>\n",
       "      <td>2018-03-01</td>\n",
       "      <td>...</td>\n",
       "      <td>1.0</td>\n",
       "      <td>1.0</td>\n",
       "      <td>0.0</td>\n",
       "      <td>Studio</td>\n",
       "      <td>HV</td>\n",
       "      <td>17.0</td>\n",
       "      <td>1.0</td>\n",
       "      <td>SingleBed</td>\n",
       "      <td>100.0</td>\n",
       "      <td>Historic View</td>\n",
       "    </tr>\n",
       "    <tr>\n",
       "      <th>2</th>\n",
       "      <td>AL</td>\n",
       "      <td>81076275</td>\n",
       "      <td>Algernon</td>\n",
       "      <td>Crudginton</td>\n",
       "      <td>Male</td>\n",
       "      <td>Albania</td>\n",
       "      <td>Tirana</td>\n",
       "      <td>Riviera San Nicol 11/a</td>\n",
       "      <td>53730640801031</td>\n",
       "      <td>NaT</td>\n",
       "      <td>...</td>\n",
       "      <td>2.0</td>\n",
       "      <td>3.0</td>\n",
       "      <td>1.0</td>\n",
       "      <td>ConnectionRm</td>\n",
       "      <td>G</td>\n",
       "      <td>19.0</td>\n",
       "      <td>2.0</td>\n",
       "      <td>DoubleBed</td>\n",
       "      <td>160.0</td>\n",
       "      <td>Ocean View</td>\n",
       "    </tr>\n",
       "    <tr>\n",
       "      <th>3</th>\n",
       "      <td>AL</td>\n",
       "      <td>90138526</td>\n",
       "      <td>Abra</td>\n",
       "      <td>MacGray</td>\n",
       "      <td>Female</td>\n",
       "      <td>Albania</td>\n",
       "      <td>Tirana</td>\n",
       "      <td>2113 Sapp Brothers Dr</td>\n",
       "      <td>33167353232143</td>\n",
       "      <td>2018-03-01</td>\n",
       "      <td>...</td>\n",
       "      <td>2.0</td>\n",
       "      <td>3.0</td>\n",
       "      <td>3.0</td>\n",
       "      <td>Connecting Rooms</td>\n",
       "      <td>GF</td>\n",
       "      <td>15.0</td>\n",
       "      <td>1.0</td>\n",
       "      <td>CCN</td>\n",
       "      <td>230.0</td>\n",
       "      <td>Golf Course View</td>\n",
       "    </tr>\n",
       "    <tr>\n",
       "      <th>4</th>\n",
       "      <td>AL</td>\n",
       "      <td>90138526</td>\n",
       "      <td>Abra</td>\n",
       "      <td>MacGray</td>\n",
       "      <td>Female</td>\n",
       "      <td>Albania</td>\n",
       "      <td>Tirana</td>\n",
       "      <td>2113 Sapp Brothers Dr</td>\n",
       "      <td>33167353232143</td>\n",
       "      <td>2018-03-01</td>\n",
       "      <td>...</td>\n",
       "      <td>5.0</td>\n",
       "      <td>1.0</td>\n",
       "      <td>0.0</td>\n",
       "      <td>Connecting Rooms</td>\n",
       "      <td>GF</td>\n",
       "      <td>15.0</td>\n",
       "      <td>1.0</td>\n",
       "      <td>CCN</td>\n",
       "      <td>230.0</td>\n",
       "      <td>Golf Course View</td>\n",
       "    </tr>\n",
       "  </tbody>\n",
       "</table>\n",
       "<p>5 rows × 32 columns</p>\n",
       "</div>"
      ],
      "text/plain": [
       "  PassportCountry  PassportNumber FirstName    LastName  Gender  \\\n",
       "0              US        40915678     Greta     Turneux  Female   \n",
       "1              IL        24297740     Dorey       Arpur  Female   \n",
       "2              AL        81076275  Algernon  Crudginton    Male   \n",
       "3              AL        90138526      Abra     MacGray  Female   \n",
       "4              AL        90138526      Abra     MacGray  Female   \n",
       "\n",
       "       Country_x   City_x                     Street     MobilePhone  \\\n",
       "0  United States  Chicago              ACME ALY 6151  73894451144294   \n",
       "1         Israel    Haifa  Rothschild Boulevard 7301  35269845800321   \n",
       "2        Albania   Tirana     Riviera San Nicol 11/a  53730640801031   \n",
       "3        Albania   Tirana      2113 Sapp Brothers Dr  33167353232143   \n",
       "4        Albania   Tirana      2113 Sapp Brothers Dr  33167353232143   \n",
       "\n",
       "  ReservationDate  ...  Grade  Restaurants  SwimmingPools     HotelRoomType  \\\n",
       "0      2024-01-02  ...    4.0          1.0            4.0   Accessible Room   \n",
       "1      2018-03-01  ...    1.0          1.0            0.0            Studio   \n",
       "2             NaT  ...    2.0          3.0            1.0      ConnectionRm   \n",
       "3      2018-03-01  ...    2.0          3.0            3.0  Connecting Rooms   \n",
       "4      2018-03-01  ...    5.0          1.0            0.0  Connecting Rooms   \n",
       "\n",
       "  ViewType  RoomSize  Balcony   RoomName RoomTypePrice          ViewName  \n",
       "0        C      21.0      2.0        WCH         160.0         City View  \n",
       "1       HV      17.0      1.0  SingleBed         100.0     Historic View  \n",
       "2        G      19.0      2.0  DoubleBed         160.0        Ocean View  \n",
       "3       GF      15.0      1.0        CCN         230.0  Golf Course View  \n",
       "4       GF      15.0      1.0        CCN         230.0  Golf Course View  \n",
       "\n",
       "[5 rows x 32 columns]"
      ]
     },
     "execution_count": 130,
     "metadata": {},
     "output_type": "execute_result"
    }
   ],
   "source": [
    "# created one table called 'reservations'\n",
    "reservations.info()\n",
    "reservations.head()"
   ]
  },
  {
   "cell_type": "code",
   "execution_count": 131,
   "id": "54fceed3-4d17-49ff-98d8-ba51c386876c",
   "metadata": {},
   "outputs": [
    {
     "name": "stdout",
     "output_type": "stream",
     "text": [
      "After merge: 1648\n"
     ]
    }
   ],
   "source": [
    "# data after merging \n",
    "print(\"After merge:\", len(reservations))"
   ]
  },
  {
   "cell_type": "code",
   "execution_count": 132,
   "id": "5e47b39c-1bd9-4c21-9d0d-2aad6475362f",
   "metadata": {},
   "outputs": [
    {
     "name": "stdout",
     "output_type": "stream",
     "text": [
      "PassportCountry         0\n",
      "PassportNumber          0\n",
      "FirstName               0\n",
      "LastName                0\n",
      "Gender                  0\n",
      "Country_x               0\n",
      "City_x                  0\n",
      "Street                  0\n",
      "MobilePhone             0\n",
      "ReservationDate      1198\n",
      "ReservationNumber     922\n",
      "HotelNumber           922\n",
      "RoomNumber            922\n",
      "ArrivalDate           922\n",
      "CheckOutDate          922\n",
      "RoomNights            922\n",
      "NumberofGuests        922\n",
      "TotalPrice            922\n",
      "HotelName             922\n",
      "Country_y             922\n",
      "City_y                922\n",
      "PhoneNumber           922\n",
      "Grade                 922\n",
      "Restaurants           922\n",
      "SwimmingPools         922\n",
      "HotelRoomType         922\n",
      "ViewType              922\n",
      "RoomSize              922\n",
      "Balcony               922\n",
      "RoomName              932\n",
      "RoomTypePrice         932\n",
      "ViewName              922\n",
      "dtype: int64\n"
     ]
    }
   ],
   "source": [
    "# counts Nulls\n",
    "nan_count = reservations.isnull().sum()\n",
    "print(nan_count)"
   ]
  },
  {
   "cell_type": "code",
   "execution_count": 133,
   "id": "f66d3270-7beb-4f03-8dfb-5f8f6b7c8ca4",
   "metadata": {},
   "outputs": [
    {
     "data": {
      "text/plain": [
       "PassportCountry      1648\n",
       "PassportNumber       1648\n",
       "FirstName            1648\n",
       "LastName             1648\n",
       "Gender               1648\n",
       "Country_x            1648\n",
       "City_x               1648\n",
       "Street               1648\n",
       "MobilePhone          1648\n",
       "ReservationDate       450\n",
       "ReservationNumber     726\n",
       "HotelNumber           726\n",
       "RoomNumber            726\n",
       "ArrivalDate           726\n",
       "CheckOutDate          726\n",
       "RoomNights            726\n",
       "NumberofGuests        726\n",
       "TotalPrice            726\n",
       "HotelName             726\n",
       "Country_y             726\n",
       "City_y                726\n",
       "PhoneNumber           726\n",
       "Grade                 726\n",
       "Restaurants           726\n",
       "SwimmingPools         726\n",
       "HotelRoomType         726\n",
       "ViewType              726\n",
       "RoomSize              726\n",
       "Balcony               726\n",
       "RoomName              716\n",
       "RoomTypePrice         716\n",
       "ViewName              726\n",
       "dtype: int64"
      ]
     },
     "execution_count": 133,
     "metadata": {},
     "output_type": "execute_result"
    }
   ],
   "source": [
    "# counting values in each column\n",
    "reservations.count()"
   ]
  },
  {
   "cell_type": "code",
   "execution_count": 134,
   "id": "1b4b72d7-e2d6-4d2a-a574-be3a5daae906",
   "metadata": {},
   "outputs": [],
   "source": [
    "# renaming columns\n",
    "reservations = reservations.rename(columns={\n",
    "    'Country_x': 'GuestCountry',\n",
    "    'City_x': 'GuestCity',\n",
    "    'Country_y': 'HotelCountry',\n",
    "    'City_y': 'HotelCity',\n",
    "})"
   ]
  },
  {
   "cell_type": "code",
   "execution_count": 135,
   "id": "375e0379-7048-49b6-9525-aa05c039d8c8",
   "metadata": {},
   "outputs": [],
   "source": [
    "# merging columns 'FirstName', 'LastName' to one column - 'FullName'\n",
    "reservations['FullName'] = reservations['FirstName'] + ' ' + reservations['LastName']  # Create new column\n",
    "reservations.drop(columns=['FirstName', 'LastName'], inplace=True)  # remove old column\n"
   ]
  },
  {
   "cell_type": "code",
   "execution_count": 136,
   "id": "af871901-72dc-4e29-adec-c700ad4cc836",
   "metadata": {},
   "outputs": [
    {
     "data": {
      "text/plain": [
       "Index(['PassportCountry', 'PassportNumber', 'Gender', 'GuestCountry',\n",
       "       'GuestCity', 'Street', 'MobilePhone', 'ReservationDate',\n",
       "       'ReservationNumber', 'HotelNumber', 'RoomNumber', 'ArrivalDate',\n",
       "       'CheckOutDate', 'RoomNights', 'NumberofGuests', 'TotalPrice',\n",
       "       'HotelName', 'HotelCountry', 'HotelCity', 'PhoneNumber', 'Grade',\n",
       "       'Restaurants', 'SwimmingPools', 'HotelRoomType', 'ViewType', 'RoomSize',\n",
       "       'Balcony', 'RoomName', 'RoomTypePrice', 'ViewName', 'FullName'],\n",
       "      dtype='object')"
      ]
     },
     "execution_count": 136,
     "metadata": {},
     "output_type": "execute_result"
    }
   ],
   "source": [
    "## Columns name check\n",
    "reservations.columns"
   ]
  },
  {
   "cell_type": "code",
   "execution_count": 137,
   "id": "7eedd4a2-8033-456b-a20d-bfacbb89f65c",
   "metadata": {},
   "outputs": [
    {
     "name": "stdout",
     "output_type": "stream",
     "text": [
      "<class 'pandas.core.frame.DataFrame'>\n",
      "RangeIndex: 1648 entries, 0 to 1647\n",
      "Data columns (total 31 columns):\n",
      " #   Column             Non-Null Count  Dtype         \n",
      "---  ------             --------------  -----         \n",
      " 0   PassportCountry    1648 non-null   object        \n",
      " 1   PassportNumber     1648 non-null   int64         \n",
      " 2   Gender             1648 non-null   category      \n",
      " 3   GuestCountry       1648 non-null   category      \n",
      " 4   GuestCity          1648 non-null   category      \n",
      " 5   Street             1648 non-null   object        \n",
      " 6   MobilePhone        1648 non-null   int64         \n",
      " 7   ReservationDate    450 non-null    datetime64[ns]\n",
      " 8   ReservationNumber  726 non-null    float64       \n",
      " 9   HotelNumber        726 non-null    float64       \n",
      " 10  RoomNumber         726 non-null    float64       \n",
      " 11  ArrivalDate        726 non-null    datetime64[ns]\n",
      " 12  CheckOutDate       726 non-null    datetime64[ns]\n",
      " 13  RoomNights         726 non-null    float64       \n",
      " 14  NumberofGuests     726 non-null    float64       \n",
      " 15  TotalPrice         726 non-null    float64       \n",
      " 16  HotelName          726 non-null    object        \n",
      " 17  HotelCountry       726 non-null    category      \n",
      " 18  HotelCity          726 non-null    category      \n",
      " 19  PhoneNumber        726 non-null    float64       \n",
      " 20  Grade              726 non-null    float64       \n",
      " 21  Restaurants        726 non-null    float64       \n",
      " 22  SwimmingPools      726 non-null    float64       \n",
      " 23  HotelRoomType      726 non-null    object        \n",
      " 24  ViewType           726 non-null    object        \n",
      " 25  RoomSize           726 non-null    float64       \n",
      " 26  Balcony            726 non-null    float64       \n",
      " 27  RoomName           716 non-null    object        \n",
      " 28  RoomTypePrice      716 non-null    float64       \n",
      " 29  ViewName           726 non-null    object        \n",
      " 30  FullName           1648 non-null   object        \n",
      "dtypes: category(5), datetime64[ns](3), float64(13), int64(2), object(8)\n",
      "memory usage: 368.3+ KB\n"
     ]
    }
   ],
   "source": [
    "reservations.info()"
   ]
  },
  {
   "cell_type": "code",
   "execution_count": 138,
   "id": "1ab3a33d-1b98-465e-afac-e7537562561e",
   "metadata": {},
   "outputs": [],
   "source": [
    "# Droping rows with 'NaN' values \n",
    "reservations.dropna(subset=['Grade', 'Restaurants', 'SwimmingPools', 'ReservationNumber', 'HotelNumber',\n",
    "                            'RoomNumber', 'NumberofGuests', 'RoomNights', 'PhoneNumber', 'RoomSize', 'Balcony'], inplace=True)\n",
    "\n",
    "# Converting to the required columns to int\n",
    "reservations[['Grade', 'Restaurants', 'SwimmingPools', 'ReservationNumber', 'HotelNumber',\n",
    "              'RoomNumber', 'NumberofGuests', 'RoomNights', 'PhoneNumber', 'RoomSize', 'Balcony']] = reservations[['Grade', 'Restaurants', 'SwimmingPools', 'ReservationNumber',\n",
    "                                                                                                                 'HotelNumber', 'RoomNumber', 'NumberofGuests',\n",
    "                                                                                                                'RoomNights', 'PhoneNumber', 'RoomSize', 'Balcony']].astype(int)"
   ]
  },
  {
   "cell_type": "markdown",
   "id": "06a995bd-6ebc-42d3-b804-5bafcbeaf6ea",
   "metadata": {},
   "source": [
    "- ## Descriptive Statistics\n",
    "\n"
   ]
  },
  {
   "cell_type": "code",
   "execution_count": 139,
   "id": "7b354a48-2c19-431b-a2a8-24c1abda4596",
   "metadata": {},
   "outputs": [
    {
     "data": {
      "text/html": [
       "<div>\n",
       "<style scoped>\n",
       "    .dataframe tbody tr th:only-of-type {\n",
       "        vertical-align: middle;\n",
       "    }\n",
       "\n",
       "    .dataframe tbody tr th {\n",
       "        vertical-align: top;\n",
       "    }\n",
       "\n",
       "    .dataframe thead th {\n",
       "        text-align: right;\n",
       "    }\n",
       "</style>\n",
       "<table border=\"1\" class=\"dataframe\">\n",
       "  <thead>\n",
       "    <tr style=\"text-align: right;\">\n",
       "      <th></th>\n",
       "      <th>RoomNights</th>\n",
       "      <th>NumberofGuests</th>\n",
       "      <th>TotalPrice</th>\n",
       "      <th>RoomTypePrice</th>\n",
       "    </tr>\n",
       "  </thead>\n",
       "  <tbody>\n",
       "    <tr>\n",
       "      <th>count</th>\n",
       "      <td>726.000000</td>\n",
       "      <td>726.000000</td>\n",
       "      <td>726.000000</td>\n",
       "      <td>716.000000</td>\n",
       "    </tr>\n",
       "    <tr>\n",
       "      <th>mean</th>\n",
       "      <td>11.511019</td>\n",
       "      <td>2.568871</td>\n",
       "      <td>4848.622590</td>\n",
       "      <td>339.449721</td>\n",
       "    </tr>\n",
       "    <tr>\n",
       "      <th>std</th>\n",
       "      <td>6.588958</td>\n",
       "      <td>1.169767</td>\n",
       "      <td>2949.512235</td>\n",
       "      <td>239.043137</td>\n",
       "    </tr>\n",
       "    <tr>\n",
       "      <th>min</th>\n",
       "      <td>1.000000</td>\n",
       "      <td>1.000000</td>\n",
       "      <td>250.000000</td>\n",
       "      <td>100.000000</td>\n",
       "    </tr>\n",
       "    <tr>\n",
       "      <th>25%</th>\n",
       "      <td>6.000000</td>\n",
       "      <td>1.000000</td>\n",
       "      <td>2168.000000</td>\n",
       "      <td>160.000000</td>\n",
       "    </tr>\n",
       "    <tr>\n",
       "      <th>50%</th>\n",
       "      <td>11.000000</td>\n",
       "      <td>3.000000</td>\n",
       "      <td>4734.000000</td>\n",
       "      <td>250.000000</td>\n",
       "    </tr>\n",
       "    <tr>\n",
       "      <th>75%</th>\n",
       "      <td>17.000000</td>\n",
       "      <td>4.000000</td>\n",
       "      <td>7302.000000</td>\n",
       "      <td>450.000000</td>\n",
       "    </tr>\n",
       "    <tr>\n",
       "      <th>max</th>\n",
       "      <td>23.000000</td>\n",
       "      <td>4.000000</td>\n",
       "      <td>13200.000000</td>\n",
       "      <td>1000.000000</td>\n",
       "    </tr>\n",
       "  </tbody>\n",
       "</table>\n",
       "</div>"
      ],
      "text/plain": [
       "       RoomNights  NumberofGuests    TotalPrice  RoomTypePrice\n",
       "count  726.000000      726.000000    726.000000     716.000000\n",
       "mean    11.511019        2.568871   4848.622590     339.449721\n",
       "std      6.588958        1.169767   2949.512235     239.043137\n",
       "min      1.000000        1.000000    250.000000     100.000000\n",
       "25%      6.000000        1.000000   2168.000000     160.000000\n",
       "50%     11.000000        3.000000   4734.000000     250.000000\n",
       "75%     17.000000        4.000000   7302.000000     450.000000\n",
       "max     23.000000        4.000000  13200.000000    1000.000000"
      ]
     },
     "execution_count": 139,
     "metadata": {},
     "output_type": "execute_result"
    }
   ],
   "source": [
    "# Summary statistics for numerical data\n",
    "reservations[['RoomNights', 'NumberofGuests', 'TotalPrice','RoomTypePrice']].describe()"
   ]
  },
  {
   "cell_type": "code",
   "execution_count": 140,
   "id": "83ec2aeb-69c8-4e78-ab5c-7aab6c7a1a21",
   "metadata": {},
   "outputs": [
    {
     "data": {
      "text/html": [
       "<div>\n",
       "<style scoped>\n",
       "    .dataframe tbody tr th:only-of-type {\n",
       "        vertical-align: middle;\n",
       "    }\n",
       "\n",
       "    .dataframe tbody tr th {\n",
       "        vertical-align: top;\n",
       "    }\n",
       "\n",
       "    .dataframe thead th {\n",
       "        text-align: right;\n",
       "    }\n",
       "</style>\n",
       "<table border=\"1\" class=\"dataframe\">\n",
       "  <thead>\n",
       "    <tr style=\"text-align: right;\">\n",
       "      <th></th>\n",
       "      <th>Gender</th>\n",
       "      <th>GuestCountry</th>\n",
       "      <th>GuestCity</th>\n",
       "      <th>HotelCountry</th>\n",
       "      <th>HotelCity</th>\n",
       "    </tr>\n",
       "  </thead>\n",
       "  <tbody>\n",
       "    <tr>\n",
       "      <th>count</th>\n",
       "      <td>726</td>\n",
       "      <td>726</td>\n",
       "      <td>726</td>\n",
       "      <td>726</td>\n",
       "      <td>726</td>\n",
       "    </tr>\n",
       "    <tr>\n",
       "      <th>unique</th>\n",
       "      <td>4</td>\n",
       "      <td>19</td>\n",
       "      <td>25</td>\n",
       "      <td>19</td>\n",
       "      <td>257</td>\n",
       "    </tr>\n",
       "    <tr>\n",
       "      <th>top</th>\n",
       "      <td>Male</td>\n",
       "      <td>United States</td>\n",
       "      <td>Washington</td>\n",
       "      <td>United States</td>\n",
       "      <td>Boston</td>\n",
       "    </tr>\n",
       "    <tr>\n",
       "      <th>freq</th>\n",
       "      <td>375</td>\n",
       "      <td>241</td>\n",
       "      <td>181</td>\n",
       "      <td>484</td>\n",
       "      <td>58</td>\n",
       "    </tr>\n",
       "  </tbody>\n",
       "</table>\n",
       "</div>"
      ],
      "text/plain": [
       "       Gender   GuestCountry   GuestCity   HotelCountry HotelCity\n",
       "count     726            726         726            726       726\n",
       "unique      4             19          25             19       257\n",
       "top      Male  United States  Washington  United States    Boston\n",
       "freq      375            241         181            484        58"
      ]
     },
     "execution_count": 140,
     "metadata": {},
     "output_type": "execute_result"
    }
   ],
   "source": [
    "# Summary for categorical data\n",
    "reservations.describe(include=['category'])"
   ]
  },
  {
   "cell_type": "code",
   "execution_count": 141,
   "id": "2d3714b0-965a-4cec-8597-c09b937fac13",
   "metadata": {},
   "outputs": [
    {
     "data": {
      "text/html": [
       "<div>\n",
       "<style scoped>\n",
       "    .dataframe tbody tr th:only-of-type {\n",
       "        vertical-align: middle;\n",
       "    }\n",
       "\n",
       "    .dataframe tbody tr th {\n",
       "        vertical-align: top;\n",
       "    }\n",
       "\n",
       "    .dataframe thead th {\n",
       "        text-align: right;\n",
       "    }\n",
       "</style>\n",
       "<table border=\"1\" class=\"dataframe\">\n",
       "  <thead>\n",
       "    <tr style=\"text-align: right;\">\n",
       "      <th></th>\n",
       "      <th>ReservationDate</th>\n",
       "      <th>ArrivalDate</th>\n",
       "      <th>CheckOutDate</th>\n",
       "    </tr>\n",
       "  </thead>\n",
       "  <tbody>\n",
       "    <tr>\n",
       "      <th>count</th>\n",
       "      <td>450</td>\n",
       "      <td>726</td>\n",
       "      <td>726</td>\n",
       "    </tr>\n",
       "    <tr>\n",
       "      <th>mean</th>\n",
       "      <td>2021-06-07 12:32:00.000000256</td>\n",
       "      <td>2021-08-11 01:43:08.429752064</td>\n",
       "      <td>2021-08-22 13:59:00.495867904</td>\n",
       "    </tr>\n",
       "    <tr>\n",
       "      <th>min</th>\n",
       "      <td>2018-01-01 00:00:00</td>\n",
       "      <td>2018-01-25 00:00:00</td>\n",
       "      <td>2018-01-30 00:00:00</td>\n",
       "    </tr>\n",
       "    <tr>\n",
       "      <th>25%</th>\n",
       "      <td>2019-02-11 00:00:00</td>\n",
       "      <td>2019-10-14 00:00:00</td>\n",
       "      <td>2019-10-18 06:00:00</td>\n",
       "    </tr>\n",
       "    <tr>\n",
       "      <th>50%</th>\n",
       "      <td>2021-02-01 00:00:00</td>\n",
       "      <td>2021-09-26 12:00:00</td>\n",
       "      <td>2021-10-01 00:00:00</td>\n",
       "    </tr>\n",
       "    <tr>\n",
       "      <th>75%</th>\n",
       "      <td>2024-01-02 00:00:00</td>\n",
       "      <td>2023-05-15 12:00:00</td>\n",
       "      <td>2023-05-28 00:00:00</td>\n",
       "    </tr>\n",
       "    <tr>\n",
       "      <th>max</th>\n",
       "      <td>2025-01-01 00:00:00</td>\n",
       "      <td>2025-12-14 00:00:00</td>\n",
       "      <td>2025-12-28 00:00:00</td>\n",
       "    </tr>\n",
       "  </tbody>\n",
       "</table>\n",
       "</div>"
      ],
      "text/plain": [
       "                     ReservationDate                    ArrivalDate  \\\n",
       "count                            450                            726   \n",
       "mean   2021-06-07 12:32:00.000000256  2021-08-11 01:43:08.429752064   \n",
       "min              2018-01-01 00:00:00            2018-01-25 00:00:00   \n",
       "25%              2019-02-11 00:00:00            2019-10-14 00:00:00   \n",
       "50%              2021-02-01 00:00:00            2021-09-26 12:00:00   \n",
       "75%              2024-01-02 00:00:00            2023-05-15 12:00:00   \n",
       "max              2025-01-01 00:00:00            2025-12-14 00:00:00   \n",
       "\n",
       "                        CheckOutDate  \n",
       "count                            726  \n",
       "mean   2021-08-22 13:59:00.495867904  \n",
       "min              2018-01-30 00:00:00  \n",
       "25%              2019-10-18 06:00:00  \n",
       "50%              2021-10-01 00:00:00  \n",
       "75%              2023-05-28 00:00:00  \n",
       "max              2025-12-28 00:00:00  "
      ]
     },
     "execution_count": 141,
     "metadata": {},
     "output_type": "execute_result"
    }
   ],
   "source": [
    "# Convert columns to datetime \n",
    "reservations[\"ReservationDate\"] = pd.to_datetime(reservations[\"ReservationDate\"], errors=\"coerce\")\n",
    "reservations[\"ArrivalDate\"] = pd.to_datetime(reservations[\"ArrivalDate\"], errors=\"coerce\")\n",
    "reservations[\"CheckOutDate\"] = pd.to_datetime(reservations[\"CheckOutDate\"], errors=\"coerce\")\n",
    "\n",
    "# Summary for categorical datetime\n",
    "reservations[['ReservationDate', 'ArrivalDate', 'CheckOutDate']].describe(include=['datetime'])\n"
   ]
  },
  {
   "cell_type": "markdown",
   "id": "9eed2b4d-036d-47dd-8b7b-7dd8c88d3b28",
   "metadata": {},
   "source": [
    "## Now we can start creating the visual analyses"
   ]
  },
  {
   "cell_type": "code",
   "execution_count": 142,
   "id": "1422c630-6b5b-46ad-affd-39c9503580d6",
   "metadata": {},
   "outputs": [
    {
     "data": {
      "image/png": "[encoded data removed]",
      "text/plain": [
       "<Figure size 800x500 with 1 Axes>"
      ]
     },
     "metadata": {},
     "output_type": "display_data"
    }
   ],
   "source": [
    "# Histogram for stay duration\n",
    "plt.figure(figsize=(8, 5))\n",
    "sb.histplot((reservations[\"CheckOutDate\"] - reservations[\"ArrivalDate\"]).dt.days, bins=20, kde=True)\n",
    "plt.title(\"Stay Duration Distribution\")\n",
    "plt.xlabel(\"RoomNights\")\n",
    "plt.show()"
   ]
  },
  {
   "cell_type": "code",
   "execution_count": 143,
   "id": "0525042d-517b-4b7b-baca-b587ec6d402c",
   "metadata": {},
   "outputs": [
    {
     "name": "stdout",
     "output_type": "stream",
     "text": [
      "['Accessible Room' 'Studio' 'ConnectionRm' 'Connecting Rooms' 'Premuim'\n",
      " 'Deluxe' 'Quad Room' 'Twin Room' 'Triple Room' 'Penthouse' 'Family1'\n",
      " 'Junior Suite' 'Apartment' 'Studio2' 'Suite' 'Cabana' 'FamilyRoom'\n",
      " 'Standard' 'Single' 'Business Room' 'Villa' 'Presidential Suite'\n",
      " 'Honeymoon Suite' 'STANDARD']\n"
     ]
    }
   ],
   "source": [
    "# Show all unique room types\n",
    "room_types = reservations['HotelRoomType'].unique()\n",
    "\n",
    "\n",
    "print(room_types)\n"
   ]
  },
  {
   "cell_type": "code",
   "execution_count": 144,
   "id": "977ce447-d7b7-4d60-9315-9697565c7c8e",
   "metadata": {},
   "outputs": [
    {
     "name": "stderr",
     "output_type": "stream",
     "text": [
      "C:\\Users\\User\\AppData\\Local\\Temp\\ipykernel_12152\\3757200617.py:8: SettingWithCopyWarning: \n",
      "A value is trying to be set on a copy of a slice from a DataFrame.\n",
      "Try using .loc[row_indexer,col_indexer] = value instead\n",
      "\n",
      "See the caveats in the documentation: https://pandas.pydata.org/pandas-docs/stable/user_guide/indexing.html#returning-a-view-versus-a-copy\n",
      "  f_reservations [\"Month\"] = f_reservations[\"ArrivalDate\"].dt.month_name()\n"
     ]
    },
    {
     "data": {
      "text/plain": [
       "<Figure size 1400x800 with 0 Axes>"
      ]
     },
     "metadata": {},
     "output_type": "display_data"
    },
    {
     "data": {
      "image/png": "[encoded data removed]",
      "text/plain": [
       "<Figure size 1400x800 with 1 Axes>"
      ]
     },
     "metadata": {},
     "output_type": "display_data"
    }
   ],
   "source": [
    "# Room Type Preferences by Time of Year\n",
    "\n",
    "s_room_types = [ 'Connecting Rooms', 'Premuim'\n",
    " 'Deluxe' , 'Twin Room' ,'Suite', 'FamilyRoom',\n",
    " 'Standard', 'Single' ,'Business Room' ,\n",
    " 'Honeymoon Suite'] \n",
    "f_reservations = reservations[reservations['HotelRoomType'].isin(s_room_types)]\n",
    "f_reservations [\"Month\"] = f_reservations[\"ArrivalDate\"].dt.month_name()\n",
    "\n",
    "\n",
    "room_type_by_month = f_reservations.groupby([\"Month\", \"HotelRoomType\"]).size().unstack().fillna(0)\n",
    "f_reservations.loc[:, \"Month\"] = f_reservations[\"ArrivalDate\"].dt.month_name()\n",
    "\n",
    "\n",
    "plt.figure(figsize=(14, 8))\n",
    "room_type_by_month.plot(kind='bar', stacked=True, figsize=(14, 8), colormap='Set3')\n",
    "\n",
    "plt.title('Room Type Preferences by Time of Year (Month)', fontsize=16)\n",
    "plt.xlabel('Month', fontsize=14)\n",
    "plt.ylabel('Number of Reservations', fontsize=14)\n",
    "plt.xticks(rotation=45)\n",
    "plt.legend(title='Hotel Room Types', bbox_to_anchor=(1.05, 1), loc='upper left')\n",
    "plt.tight_layout()\n",
    "plt.show()"
   ]
  },
  {
   "cell_type": "code",
   "execution_count": 145,
   "id": "b069ad46-b4b0-4ce3-9e79-d5c7c508a640",
   "metadata": {},
   "outputs": [
    {
     "data": {
      "image/png": "[encoded data removed]",
      "text/plain": [
       "<Figure size 800x800 with 1 Axes>"
      ]
     },
     "metadata": {},
     "output_type": "display_data"
    }
   ],
   "source": [
    "guest_Gender_counts = reservations['Gender'].value_counts()\n",
    "\n",
    "# Pie chart for Guest Type distribution\n",
    "plt.figure(figsize=(8, 8))\n",
    "plt.pie(guest_Gender_counts, labels=guest_Gender_counts.index, autopct='%1.1f%%', startangle=90, colors=sb.color_palette(\"Set3\", len(guest_Gender_counts)))\n",
    "plt.title('Distribution of Bookings Gender')\n",
    "plt.show()"
   ]
  },
  {
   "cell_type": "code",
   "execution_count": 146,
   "id": "0c84909c-fd4e-469c-9fc0-f8c2b4bf6648",
   "metadata": {},
   "outputs": [
    {
     "data": {
      "image/png": "[encoded data removed]",
      "text/plain": [
       "<Figure size 1200x600 with 2 Axes>"
      ]
     },
     "metadata": {},
     "output_type": "display_data"
    }
   ],
   "source": [
    "\n",
    "#  Israeli holiday periods (2018-2025)\n",
    "israeli_holidays = [\n",
    "    # Passover (Pesach) - 7 days\n",
    "    (\"2018-03-30\", \"2018-04-06\"), (\"2019-04-19\", \"2019-04-26\"), (\"2020-04-08\", \"2020-04-15\"),\n",
    "    (\"2021-03-27\", \"2021-04-04\"), (\"2022-04-15\", \"2022-04-23\"), (\"2023-04-05\", \"2023-04-13\"),\n",
    "    (\"2024-04-22\", \"2024-04-30\"), (\"2025-04-12\", \"2025-04-19\"),\n",
    "    \n",
    "    # Rosh Hashanah - 2 days\n",
    "    (\"2018-09-09\", \"2018-09-11\"), (\"2019-09-29\", \"2019-10-01\"), (\"2020-09-18\", \"2020-09-20\"),\n",
    "    (\"2021-09-06\", \"2021-09-08\"), (\"2022-09-25\", \"2022-09-27\"), (\"2023-09-15\", \"2023-09-17\"),\n",
    "    (\"2024-10-02\", \"2024-10-04\"), (\"2025-09-22\", \"2025-09-24\"),\n",
    "    \n",
    "    # Yom Kippur - 1 day\n",
    "    (\"2018-09-18\", \"2018-09-19\"), (\"2019-10-08\", \"2019-10-09\"), (\"2020-09-27\", \"2020-09-28\"),\n",
    "    (\"2021-09-15\", \"2021-09-16\"), (\"2022-10-04\", \"2022-10-05\"), (\"2023-09-24\", \"2023-09-25\"),\n",
    "    (\"2024-10-11\", \"2024-10-12\"), (\"2025-10-01\", \"2025-10-02\"),\n",
    "    \n",
    "    # Sukkot - 7 days\n",
    "    (\"2018-09-23\", \"2018-09-30\"), (\"2019-10-13\", \"2019-10-20\"), (\"2020-10-02\", \"2020-10-09\"),\n",
    "    (\"2021-09-20\", \"2021-09-27\"), (\"2022-10-09\", \"2022-10-16\"), (\"2023-09-29\", \"2023-10-06\"),\n",
    "    (\"2024-10-16\", \"2024-10-23\"), (\"2025-10-06\", \"2025-10-13\"),\n",
    "    \n",
    "    # Hanukkah - 8 days\n",
    "    (\"2018-12-02\", \"2018-12-10\"), (\"2019-12-22\", \"2019-12-30\"), (\"2020-12-10\", \"2020-12-18\"),\n",
    "    (\"2021-11-28\", \"2021-12-06\"), (\"2022-12-18\", \"2022-12-26\"), (\"2023-12-07\", \"2023-12-15\"),\n",
    "    (\"2024-12-25\", \"2025-01-02\"), (\"2025-12-14\", \"2025-12-22\"),\n",
    "    \n",
    "    # Purim - 1 day\n",
    "    (\"2018-02-28\", \"2018-03-01\"), (\"2019-03-20\", \"2019-03-21\"), (\"2020-03-09\", \"2020-03-10\"),\n",
    "    (\"2021-02-25\", \"2021-02-26\"), (\"2022-03-16\", \"2022-03-17\"), (\"2023-03-06\", \"2023-03-07\"),\n",
    "    (\"2024-03-23\", \"2024-03-24\"), (\"2025-03-14\", \"2025-03-15\"),\n",
    "    \n",
    "    # Independence Day (Yom Ha’atzmaut) - 1 day\n",
    "    (\"2018-04-18\", \"2018-04-19\"), (\"2019-05-08\", \"2019-05-09\"), (\"2020-04-28\", \"2020-04-29\"),\n",
    "    (\"2021-04-14\", \"2021-04-15\"), (\"2022-05-04\", \"2022-05-05\"), (\"2023-04-25\", \"2023-04-26\"),\n",
    "    (\"2024-05-13\", \"2024-05-14\"), (\"2025-05-02\", \"2025-05-03\"),\n",
    "]\n",
    "\n",
    "#  check if a date is in a holiday period\n",
    "def is_holiday_or_regular(date):\n",
    "    for start, end in israeli_holidays:\n",
    "        if pd.to_datetime(start) <= date <= pd.to_datetime(end):\n",
    "            return \"Holiday/Event\"\n",
    "    return \"Regular Day\"\n",
    "reservations[\"Month\"] = reservations[\"ArrivalDate\"].dt.strftime('%b')\n",
    "reservations[\"DayType\"] = reservations[\"ArrivalDate\"].apply(is_holiday_or_regular)\n",
    "holiday_behavior = reservations.groupby([\"Month\", \"DayType\"])[\"ReservationNumber\"].count().unstack().fillna(0)\n",
    "\n",
    "plt.figure(figsize=(12, 6))\n",
    "sb.heatmap(holiday_behavior, annot=True, cmap=\"coolwarm\", fmt=\"g\", linewidths=0.5, cbar_kws={'label': 'Number of Reservations'})\n",
    "plt.title(\"Guest Behavior During Israeli Holidays & Events vs. Regular Days\")\n",
    "plt.xlabel(\"Day Type\")\n",
    "plt.ylabel(\"Month\")\n",
    "plt.show()"
   ]
  },
  {
   "cell_type": "code",
   "execution_count": 147,
   "id": "f6c77278-b2cf-4a93-999e-f72f7b5fe6c6",
   "metadata": {},
   "outputs": [
    {
     "data": {
      "image/png": "[encoded data removed]",
      "text/plain": [
       "<Figure size 1000x500 with 1 Axes>"
      ]
     },
     "metadata": {},
     "output_type": "display_data"
    }
   ],
   "source": [
    "# Extract Weekday and Year from the ArrivalDate column\n",
    "reservations[\"Weekday\"] = reservations[\"ArrivalDate\"].dt.day_name()\n",
    "reservations[\"Year\"] = reservations[\"ArrivalDate\"].dt.year\n",
    "\n",
    "# Count reservations by Weekday and Year\n",
    "weekday_seasonality = reservations.groupby([\"Weekday\", \"Year\"]).size().reset_index(name=\"Count\")\n",
    "weekday_order = [\"Monday\", \"Tuesday\", \"Wednesday\", \"Thursday\", \"Friday\", \"Saturday\", \"Sunday\"]\n",
    "weekday_seasonality[\"Weekday\"] = pd.Categorical(weekday_seasonality[\"Weekday\"], categories=weekday_order, ordered=True)\n",
    "\n",
    "\n",
    "plt.figure(figsize=(10, 5))\n",
    "sb.barplot(data=weekday_seasonality, x=\"Weekday\", y=\"Count\", hue=\"Year\", palette=\"Pastel1\")\n",
    "plt.title(\"Hotel Bookings by Weekday\")\n",
    "plt.xlabel(\"Day of the Week\")\n",
    "plt.ylabel(\"Number of Reservations\")\n",
    "plt.legend(title=\"Year\", loc=\"upper center\", bbox_to_anchor=(0.5, 1.2), ncol=len(weekday_seasonality[\"Year\"].unique()))\n",
    "plt.show()"
   ]
  },
  {
   "cell_type": "markdown",
   "id": "5d7faf39-5141-437a-b853-9ea925ae2a1b",
   "metadata": {},
   "source": [
    "* I would like to determine the best time to book a hotel based on the \"Total Price\" column"
   ]
  },
  {
   "cell_type": "code",
   "execution_count": 148,
   "id": "dccdadf1-a7fb-4901-a975-e46279fad06b",
   "metadata": {},
   "outputs": [
    {
     "data": {
      "image/png": "[encoded data removed]",
      "text/plain": [
       "<Figure size 1000x600 with 1 Axes>"
      ]
     },
     "metadata": {},
     "output_type": "display_data"
    }
   ],
   "source": [
    "\n",
    "reservations['ArrivalDate'] = pd.to_datetime(reservations['ArrivalDate'])\n",
    "reservations[\"Month\"] = reservations[\"ArrivalDate\"].dt.strftime('%b')\n",
    "\n",
    "# Group by month and calculate the average total price for each month\n",
    "monthly_avg_price = reservations.groupby('Month')['TotalPrice'].mean()\n",
    "\n",
    "# Sort by month to ensure it appears in the correct order\n",
    "monthly_avg_price = monthly_avg_price[['Jan', 'Feb', 'Mar', 'Apr', 'May', 'Jun', 'Jul', 'Aug', 'Sep', 'Oct', 'Nov', 'Dec']]\n",
    "\n",
    "plt.figure(figsize=(10, 6))\n",
    "plt.plot(monthly_avg_price.index, monthly_avg_price.values, marker='o', color='skyblue', linewidth=2, markersize=8, markeredgecolor='black')  # Line with markers\n",
    "plt.grid(True, which='both', linestyle='--', linewidth=0.5)\n",
    "plt.title('Average Total Price by Month', fontsize=14)\n",
    "plt.xlabel('Month', fontsize=12)\n",
    "plt.ylabel('Average Total Price', fontsize=12)\n",
    "plt.xticks(rotation=45)\n",
    "\n",
    "plt.show()\n"
   ]
  },
  {
   "cell_type": "code",
   "execution_count": 149,
   "id": "e75377e1-3e06-4415-b09c-8bf9213f948a",
   "metadata": {},
   "outputs": [
    {
     "name": "stderr",
     "output_type": "stream",
     "text": [
      "C:\\Users\\User\\AppData\\Local\\Temp\\ipykernel_12152\\305986240.py:21: FutureWarning: \n",
      "\n",
      "Passing `palette` without assigning `hue` is deprecated and will be removed in v0.14.0. Assign the `x` variable to `hue` and set `legend=False` for the same effect.\n",
      "\n",
      "  sb.barplot(data=booking_range_counts, x='BookingRange', y='Count', palette=\"coolwarm\")\n"
     ]
    },
    {
     "data": {
      "image/png": "[encoded data removed]",
      "text/plain": [
       "<Figure size 1000x600 with 1 Axes>"
      ]
     },
     "metadata": {},
     "output_type": "display_data"
    }
   ],
   "source": [
    "# Ensure the 'BookingRange' column is correctly added\n",
    "reservations[\"ArrivalDate\"] = pd.to_datetime(reservations[\"ArrivalDate\"])\n",
    "reservations[\"ReservationDate\"] = pd.to_datetime(reservations[\"ReservationDate\"])\n",
    "\n",
    "# Calculate days in advance of booking\n",
    "reservations[\"DaysInAdvance\"] = (reservations[\"ArrivalDate\"] - reservations[\"ReservationDate\"]).dt.days\n",
    "\n",
    "# Define bins for days in advance (e.g., 0-30 days, 31-60 days, etc.)\n",
    "bins = [0, 30, 60, 90, 120, 180, 365]\n",
    "labels = ['0-30 days', '31-60 days', '61-90 days', '91-120 days', '121-180 days', '181-365 days']\n",
    "\n",
    "# Create a new column for the day range\n",
    "reservations['BookingRange'] = pd.cut(reservations['DaysInAdvance'], bins=bins, labels=labels, right=False)\n",
    "\n",
    "# Count the number of bookings in each range\n",
    "booking_range_counts = reservations['BookingRange'].value_counts().sort_index().reset_index()\n",
    "booking_range_counts.columns = ['BookingRange', 'Count']\n",
    "\n",
    "# Plot the bar chart for advanced bookings\n",
    "plt.figure(figsize=(10, 6))\n",
    "sb.barplot(data=booking_range_counts, x='BookingRange', y='Count', palette=\"coolwarm\")\n",
    "plt.title(\"Number of Bookings by Days in Advance\")\n",
    "plt.xlabel(\"Days in Advance\")\n",
    "plt.ylabel(\"Number of Bookings\")\n",
    "plt.xticks(rotation=45)\n",
    "plt.show()\n"
   ]
  },
  {
   "cell_type": "markdown",
   "id": "12bc84f6-ec31-48ea-95d1-b78a14de3d17",
   "metadata": {},
   "source": [
    "## Conclusion and Recommendations\n",
    "\n",
    "### Conclusion:\n",
    "\n",
    "1. **Average Room Nights**: The average stay is 12 nights, suggesting a preference for longer stays, which is valuable for strategic pricing and availability planning.\n",
    "   \n",
    "2. **Booking Seasonality**: Peak bookings occur in July, with a significant increase in December. This highlights a strong seasonal demand, especially during the holiday season, which should guide forecasting and pricing strategies.\n",
    "\n",
    "3. **Gender Distribution**: Men are the predominant bookers. Targeted marketing campaigns can focus on this demographic, although further segmentation could uncover deeper insights.\n",
    "\n",
    "4. **Day of the Week Impact**: Friday sees the highest number of bookings. This indicates a trend for weekend stays, which can inform staffing schedules and special promotions for other weekdays.\n",
    "\n",
    "5. **Average Total Price by Month**: The highest average price occurs in December and June, reflecting peak holiday season demand. Dynamic pricing strategies can be implemented to maximize revenue during these months.\n",
    "\n",
    "6. **Total Fare by Day of the Week**: Tuesday shows the highest average fare, potentially due to premium bookings. Special packages could be considered to boost weekday bookings.\n",
    "\n",
    "7. **Advanced Booking**: A majority of bookings (181-365 days in advance) suggests a trend toward early planning, especially for events or peak seasons.\n",
    "                                                                                                                                                                    \n",
    "8. **Guest Behavior During Israeli Holidays & Events vs. Regular Days**: Passover (April) is a significant holiday period for hotel bookings, with April being the highest booking period due to family gatherings and travel. The demand spikes around the holiday, indicating that guests are willing to pay a premium for rooms during this time.\n",
    "Other Israeli Holidays and Events: Similar spikes are observed during other Jewish holidays like Rosh Hashanah (September) and Sukkot (October), where family and vacation trips contribute to increased hotel occupancy.\n",
    "Regular Days: Outside of holiday periods, demand is steadier, with bookings more spread out across the calendar year. However, the behavior during holidays shows a clear willingness to pay higher rates for more extended stays, especially for family-oriented trips.\n",
    "\n",
    "\n",
    "### Recommendations:\n",
    "\n",
    "\n",
    "**Targeted Marketing**: Focus on men for tailored offers or special packages. Further demographic insights can enhance marketing precision. Additionally, targeted campaigns during holiday periods (especially Passover) can leverage the peak demand times to attract guests.\n",
    "\n",
    "**Optimize Pricing for Peak Months**: With December, June, and April (Passover) showing the highest average prices, implement dynamic pricing. Early booking discounts or promotions for January and July could help balance demand.\n",
    "\n",
    "**Promotions for Weekdays**: Use Tuesday’s high fare trend to offer special promotions or luxury upgrades, encouraging bookings on slower weekdays.\n",
    "\n",
    "**Enhance Guest Experience for Long Stays**: Consider offering long-term stay packages or perks to cater to guests staying for an average of 12 nights, encouraging repeat business.\n",
    "\n",
    "**Operational Efficiency on Fridays**: As Friday has the highest bookings, ensure operational efficiency by preparing additional staff and resources to handle the surge in demand.\n",
    "\n",
    "**Seasonal Forecasting**: Prepare for higher bookings in July, December, and April (Passover) by adjusting pricing, staffing, and marketing. A flexible pricing model will help maximize revenue during peak periods.\n",
    "\n",
    "**Exclusive Deals for Year-Ahead Bookers**: Offer incentives for early bookings, such as long-term stay discounts or special packages, to leverage the trend of advanced booking.\n",
    "\n",
    "**Targeting Holiday Travelers**: With higher demand around holidays like Passover, the hotel can create specific holiday packages, such as family-oriented packages, to meet the needs of guests during these high-demand periods.\n",
    "\n",
    "### Next Steps:\n",
    "                        \n",
    "**Further Research**: Investigate additional demographics like age or region to refine marketing strategies.\n",
    "\n",
    "**Customer Feedback**: Collect feedback to improve pricing strategies, customer service, and promotional offers.\n",
    "\n",
    "**Data-Driven Decisions**: Monitor booking patterns and fare data for ongoing refinement of pricing and promotional strategies.\n"
   ]
  },
  {
   "cell_type": "code",
   "execution_count": null,
   "id": "48d5cbdd-450d-485e-80b6-5b07e9a653f9",
   "metadata": {},
   "outputs": [],
   "source": []
  },
  {
   "cell_type": "code",
   "execution_count": null,
   "id": "2ff0f676-3f3c-4ecc-92e3-aebd4ff505e5",
   "metadata": {},
   "outputs": [],
   "source": []
  },
  {
   "cell_type": "code",
   "execution_count": null,
   "id": "fbd9811c-3d24-4bc4-8876-5c2e62f3c7b5",
   "metadata": {},
   "outputs": [],
   "source": []
  }
 ],
 "metadata": {
  "kernelspec": {
   "display_name": "Python 3 (ipykernel)",
   "language": "python",
   "name": "python3"
  },
  "language_info": {
   "codemirror_mode": {
    "name": "ipython",
    "version": 3
   },
   "file_extension": ".py",
   "mimetype": "text/x-python",
   "name": "python",
   "nbconvert_exporter": "python",
   "pygments_lexer": "ipython3",
   "version": "3.12.4"
  }
 },
 "nbformat": 4,
 "nbformat_minor": 5
}
